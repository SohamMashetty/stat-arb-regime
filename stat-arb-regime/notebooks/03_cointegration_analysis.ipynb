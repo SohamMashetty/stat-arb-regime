{
 "cells": [
  {
   "cell_type": "code",
   "execution_count": 6,
   "id": "4f6b4cbc",
   "metadata": {},
   "outputs": [
    {
     "name": "stderr",
     "output_type": "stream",
     "text": [
      "c:\\Users\\soham\\OneDrive\\Documents\\projects\\stat-arb-regime-optiver\\src\\cointegration.py:12: FutureWarning: Series.__getitem__ treating keys as positions is deprecated. In a future version, integer keys will always be treated as labels (consistent with DataFrame behavior). To access a value by position, use `ser.iloc[pos]`\n",
      "  beta = model.params[1]\n"
     ]
    }
   ],
   "source": [
    "import sys, os\n",
    "sys.path.append(os.path.abspath(\"../src\"))\n",
    "import pandas as pd\n",
    "from data_loader import load_price_data, preprocess\n",
    "from cointegration import compute_spread\n",
    "\n",
    "# Load and preprocess\n",
    "df = load_price_data()\n",
    "df = preprocess(df)\n",
    "x = df['StockX']\n",
    "y = df['StockY']\n",
    "\n",
    "# Compute spread\n",
    "spread, beta = compute_spread(x, y)\n",
    "\n",
    "# Save as a proper 1-column DataFrame\n",
    "spread = spread.to_frame(name='spread')\n",
    "spread.index.name = 'Date'\n",
    "\n",
    "os.makedirs('data/processed', exist_ok=True)\n",
    "spread.to_csv('data/processed/spread.csv')\n"
   ]
  }
 ],
 "metadata": {
  "kernelspec": {
   "display_name": "Python 3",
   "language": "python",
   "name": "python3"
  },
  "language_info": {
   "codemirror_mode": {
    "name": "ipython",
    "version": 3
   },
   "file_extension": ".py",
   "mimetype": "text/x-python",
   "name": "python",
   "nbconvert_exporter": "python",
   "pygments_lexer": "ipython3",
   "version": "3.12.6"
  }
 },
 "nbformat": 4,
 "nbformat_minor": 5
}
