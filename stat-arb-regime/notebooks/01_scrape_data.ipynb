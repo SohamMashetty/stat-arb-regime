{
 "cells": [
  {
   "cell_type": "code",
   "execution_count": 1,
   "id": "256f10ae",
   "metadata": {},
   "outputs": [],
   "source": [
    "import sys, os\n",
    "sys.path.append(os.path.abspath(\"../src\"))\n",
    "from data_loader import fetch_and_save_sample_data"
   ]
  },
  {
   "cell_type": "code",
   "execution_count": 2,
   "id": "510e8f1d",
   "metadata": {},
   "outputs": [
    {
     "name": "stderr",
     "output_type": "stream",
     "text": [
      "c:\\Users\\soham\\OneDrive\\Documents\\projects\\stat-arb-regime-optiver\\src\\data_loader.py:10: FutureWarning: YF.download() has changed argument auto_adjust default to True\n",
      "  x = yf.download(ticker_x, start=start, end=end)[\"Close\"]\n",
      "[*********************100%***********************]  1 of 1 completed\n",
      "c:\\Users\\soham\\OneDrive\\Documents\\projects\\stat-arb-regime-optiver\\src\\data_loader.py:11: FutureWarning: YF.download() has changed argument auto_adjust default to True\n",
      "  y = yf.download(ticker_y, start=start, end=end)[\"Close\"]\n",
      "[*********************100%***********************]  1 of 1 completed"
     ]
    },
    {
     "name": "stdout",
     "output_type": "stream",
     "text": [
      " Sample data saved to data/raw/sample.csv\n"
     ]
    },
    {
     "name": "stderr",
     "output_type": "stream",
     "text": [
      "\n"
     ]
    }
   ],
   "source": [
    "fetch_and_save_sample_data()"
   ]
  }
 ],
 "metadata": {
  "kernelspec": {
   "display_name": "Python 3",
   "language": "python",
   "name": "python3"
  },
  "language_info": {
   "codemirror_mode": {
    "name": "ipython",
    "version": 3
   },
   "file_extension": ".py",
   "mimetype": "text/x-python",
   "name": "python",
   "nbconvert_exporter": "python",
   "pygments_lexer": "ipython3",
   "version": "3.12.6"
  }
 },
 "nbformat": 4,
 "nbformat_minor": 5
}
