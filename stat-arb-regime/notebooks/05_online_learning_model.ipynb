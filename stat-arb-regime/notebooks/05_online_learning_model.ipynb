{
 "cells": [
  {
   "cell_type": "code",
   "execution_count": 22,
   "id": "86072b90",
   "metadata": {},
   "outputs": [],
   "source": [
    "import sys, os\n",
    "sys.path.append(os.path.abspath(\"../src\"))\n",
    "import pandas as pd\n",
    "from online_model import OnlineSpreadModel"
   ]
  },
  {
   "cell_type": "code",
   "execution_count": 23,
   "id": "34fc4a75",
   "metadata": {},
   "outputs": [],
   "source": [
    "features = pd.read_csv('data/processed/features.csv')\n",
    "X = features[['ret', 'vol']].values[1:]\n",
    "y = features['ret'].values[1:]"
   ]
  },
  {
   "cell_type": "code",
   "execution_count": 24,
   "id": "a2a4c5aa",
   "metadata": {},
   "outputs": [],
   "source": [
    "# Fit online model\n",
    "model = OnlineSpreadModel()\n",
    "for i in range(len(X)):\n",
    "    model.partial_fit(X[i:i+1], y[i:i+1])"
   ]
  },
  {
   "cell_type": "code",
   "execution_count": 25,
   "id": "63742c63",
   "metadata": {},
   "outputs": [
    {
     "name": "stdout",
     "output_type": "stream",
     "text": [
      "Last prediction: [-9.9982625]\n"
     ]
    }
   ],
   "source": [
    "print('Last prediction:', model.predict([X[-1]]))"
   ]
  }
 ],
 "metadata": {
  "kernelspec": {
   "display_name": "Python 3",
   "language": "python",
   "name": "python3"
  },
  "language_info": {
   "codemirror_mode": {
    "name": "ipython",
    "version": 3
   },
   "file_extension": ".py",
   "mimetype": "text/x-python",
   "name": "python",
   "nbconvert_exporter": "python",
   "pygments_lexer": "ipython3",
   "version": "3.12.6"
  }
 },
 "nbformat": 4,
 "nbformat_minor": 5
}
